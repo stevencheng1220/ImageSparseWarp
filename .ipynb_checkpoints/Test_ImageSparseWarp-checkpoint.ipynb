{
 "cells": [
  {
   "cell_type": "code",
   "execution_count": 1,
   "id": "uniform-trail",
   "metadata": {},
   "outputs": [],
   "source": [
    "%%capture\n",
    "# !pip3 install tensorflow\n",
    "# !pip3 install tensorflow-datasets"
   ]
  },
  {
   "cell_type": "code",
   "execution_count": null,
   "id": "floral-uncle",
   "metadata": {},
   "outputs": [],
   "source": [
    "from config import *\n",
    "from image_sparse_warp import *\n",
    "from util import *\n",
    "\n",
    "from test_precompute import *"
   ]
  },
  {
   "cell_type": "code",
   "execution_count": null,
   "id": "devoted-identity",
   "metadata": {},
   "outputs": [],
   "source": [
    "# Load dataset \n",
    "ds = tfds.load('duke_ultrasound', data_dir='gs://tfds-data/datasets')\n",
    "test_dataset = ds['MARK'].map(process) # Splits: MARK, TRAIN, VALIDATION, TEST, A, B\n",
    "test_iter = iter(test_dataset)\n"
   ]
  },
  {
   "cell_type": "code",
   "execution_count": null,
   "id": "large-movie",
   "metadata": {},
   "outputs": [],
   "source": [
    "# Choose next data point\n",
    "ele = next(test_iter)"
   ]
  },
  {
   "cell_type": "code",
   "execution_count": null,
   "id": "nutritional-journalism",
   "metadata": {},
   "outputs": [],
   "source": [
    "# Precompute step\n",
    "empty_res_image, points_xy, val_rtheta, val_weights = image_sparse_warp_precompute(ele['dtce'], ele, ele['dtce'].shape[0], ele['dtce'].shape[1])"
   ]
  },
  {
   "cell_type": "code",
   "execution_count": null,
   "id": "transparent-wallpaper",
   "metadata": {},
   "outputs": [],
   "source": [
    "# Dynamic step\n",
    "t1 = time.perf_counter()\n",
    "res = image_sparse_warp(ele['dtce'], empty_res_image, ele, points_xy, val_rtheta, val_weights)\n",
    "t2 = time.perf_counter() - t1\n",
    "# print(t2)"
   ]
  },
  {
   "cell_type": "code",
   "execution_count": null,
   "id": "involved-candle",
   "metadata": {},
   "outputs": [],
   "source": [
    "# Plot\n",
    "plt.figure(figsize=(15,15))\n",
    "plt.imshow(res)"
   ]
  }
 ],
 "metadata": {
  "kernelspec": {
   "display_name": "Python 3",
   "language": "python",
   "name": "python3"
  },
  "language_info": {
   "codemirror_mode": {
    "name": "ipython",
    "version": 3
   },
   "file_extension": ".py",
   "mimetype": "text/x-python",
   "name": "python",
   "nbconvert_exporter": "python",
   "pygments_lexer": "ipython3",
   "version": "3.8.7"
  }
 },
 "nbformat": 4,
 "nbformat_minor": 5
}
